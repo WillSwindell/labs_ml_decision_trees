{
 "cells": [
  {
   "cell_type": "markdown",
   "metadata": {},
   "source": [
    "# Predicting course evaluations with Decision Trees\n",
    "\n",
    "\n",
    "## 1. ID3 Algorithm Implementation\n",
    "\n",
    "### 1.1. Tree data structure and helpers"
   ]
  },
  {
   "cell_type": "code",
   "execution_count": 1,
   "metadata": {},
   "outputs": [],
   "source": [
    "class DecisionNode:\n",
    "    def __init__(self, col=-1, value=None, results=None, tb=None, fb=None):\n",
    "        self.col = col # attribute on which to split\n",
    "        self.value = value # value on which to split\n",
    "        self.results = results # If the node has no children - we store here class labels with their counts\n",
    "        self.tb = tb  # True branch\n",
    "        self.fb = fb  # False branch\n",
    "        \n",
    "def split(rows, column, value):\n",
    "    # define split function according to the value type\n",
    "    split_function = None\n",
    "    if isinstance(value, int) or isinstance(value, float):\n",
    "        split_function = lambda row: row[column] >= value\n",
    "    else:\n",
    "        split_function = lambda row: row[column] == value\n",
    "\n",
    "    # Divide the rows into two sets and return them\n",
    "    set1 = [row for row in rows if split_function(row)]\n",
    "    set2 = [row for row in rows if not split_function(row)]\n",
    "    return (set1, set2)\n",
    "\n",
    "def count_labels(rows):\n",
    "    label_count = {}\n",
    "    for row in rows:\n",
    "        # The class label is in the last column\n",
    "        label = row[- 1]\n",
    "        if label not in label_count:\n",
    "            label_count[label] = 0\n",
    "        label_count[label] += 1\n",
    "    return label_count"
   ]
  },
  {
   "cell_type": "markdown",
   "metadata": {},
   "source": [
    "### 1.2. Node purity scores"
   ]
  },
  {
   "cell_type": "code",
   "execution_count": 2,
   "metadata": {},
   "outputs": [],
   "source": [
    "from math import log\n",
    "\n",
    "def gini_impurity(rows):\n",
    "    total = len(rows)\n",
    "    counts = count_labels(rows)\n",
    "    gini = 0\n",
    "    for key, val in counts.items():\n",
    "        p = val / total\n",
    "        gini += p*p\n",
    "        \n",
    "    return (1 - gini)\n",
    "\n",
    "def entropy(rows):\n",
    "    total = len(rows)\n",
    "    counts = count_labels(rows)\n",
    "    ent = 0.0\n",
    "    for key,val in counts.items():\n",
    "        p = val / total\n",
    "        ent = ent - p * log(p, 2)\n",
    "    return ent\n",
    "\n",
    "\n",
    "def variance(rows):\n",
    "    if len(rows) == 0: return 0\n",
    "    num_label = [float(row[- 1]) for row in rows]\n",
    "    mean = sum(num_label) / len(num_label)\n",
    "    variance = sum([(d - mean) ** 2 for d in num_label]) / len(num_label)\n",
    "    return variance\n"
   ]
  },
  {
   "cell_type": "markdown",
   "metadata": {},
   "source": [
    "### 1.3. Tree induction"
   ]
  },
  {
   "cell_type": "code",
   "execution_count": 3,
   "metadata": {},
   "outputs": [],
   "source": [
    "def buildtree(rows, score_func=entropy, min_improvement=0, min_samples=0, max_depth=None, depth=0):\n",
    "    if len(rows) == 0:\n",
    "        return DecisionNode()\n",
    "    # Compute overall score for the entire rows dataset\n",
    "    current_score = score_func(rows)\n",
    "\n",
    "    # Set up accumulator variables to track the best split criteria\n",
    "    best_score = current_score\n",
    "    best_criteria = None\n",
    "    best_sets = None\n",
    "    \n",
    "    # Total number of features - except the last column where we store the class (target)\n",
    "    column_count = len(rows[0]) - 1 \n",
    "    for col in range(0, column_count):\n",
    "        # Generate the list of unique values in\n",
    "        # this column to split on them\n",
    "        column_values = set()\n",
    "        for row in rows:\n",
    "            column_values.add(row[col])\n",
    "            \n",
    "        # Now try splitting the rows \n",
    "        # on each unique value in this column\n",
    "        for value in column_values:\n",
    "            (set1, set2) = split(rows, col, value)\n",
    "\n",
    "            # Evaluate the quality of the split\n",
    "            # p is the proportion of subset set1 \n",
    "            p = float(len(set1)) / len(rows)\n",
    "            split_score = p * score_func(set1) + (1-p) * score_func(set2)\n",
    "            \n",
    "            if split_score < best_score and \\\n",
    "                (len(set1) > min_samples and len(set2) > min_samples) and \\\n",
    "                (current_score - split_score) > min_improvement:\n",
    "                best_score = split_score\n",
    "                best_criteria = (col, value)\n",
    "                best_sets = (set1, set2)\n",
    "\n",
    "    # Create the sub branches\n",
    "    if (current_score - best_score) > min_improvement and \\\n",
    "        (max_depth is None or depth < max_depth) :\n",
    "        # print(\"Splitting on\",best_criteria, \" 2 sets:\", len(best_sets[0]),len(best_sets[1]))\n",
    "        true_branch = buildtree(best_sets[0], score_func, min_improvement, min_samples, max_depth, depth+1)\n",
    "        false_branch = buildtree(best_sets[1], score_func, min_improvement, min_samples, max_depth, depth+1)\n",
    "        return DecisionNode(col=best_criteria[0], value=best_criteria[1],\n",
    "                            tb=true_branch, fb=false_branch)\n",
    "    else: # Done splitting - summarize class labels in leaf nodes\n",
    "        return DecisionNode(results=count_labels(rows))"
   ]
  },
  {
   "cell_type": "markdown",
   "metadata": {},
   "source": [
    "### 1.4. Tree printing"
   ]
  },
  {
   "cell_type": "code",
   "execution_count": 4,
   "metadata": {},
   "outputs": [],
   "source": [
    "def prediction(leaf_labels):\n",
    "    total = 0\n",
    "    result = {}\n",
    "    for label, count in leaf_labels.items():\n",
    "        total += count\n",
    "        result[label] = count\n",
    "\n",
    "    for label, val in result.items():\n",
    "        result[label] = str(int(result[label]/total * 100))+\"%\"\n",
    "\n",
    "    return result"
   ]
  },
  {
   "cell_type": "code",
   "execution_count": 5,
   "metadata": {},
   "outputs": [],
   "source": [
    "def print_tree(tree, current_branch, attributes=None,  indent='', leaf_funct=prediction):\n",
    "    # Is this a leaf node?\n",
    "    if tree.results != None:\n",
    "        print(indent + current_branch + str(leaf_funct(tree.results)))\n",
    "    else:\n",
    "        # Print the split question\n",
    "        split_col = str(tree.col)\n",
    "        if attributes is not None:\n",
    "            split_col = attributes[tree.col]\n",
    "        split_val = str(tree.value)\n",
    "        if type(tree.value) == int or type(tree.value) == float:\n",
    "            split_val = \">=\" + str(tree.value)\n",
    "        print(indent + current_branch + split_col + ': ' + split_val + '? ')\n",
    "\n",
    "        # Print the branches\n",
    "        indent = indent + '  '\n",
    "        print_tree(tree.tb, 'T->', attributes, indent)\n",
    "        print_tree(tree.fb, 'F->', attributes, indent)"
   ]
  },
  {
   "cell_type": "markdown",
   "metadata": {},
   "source": [
    "### 1.5. Classification"
   ]
  },
  {
   "cell_type": "code",
   "execution_count": 6,
   "metadata": {},
   "outputs": [],
   "source": [
    "def classify(observation, tree):\n",
    "    if tree.results != None:\n",
    "        return prediction(tree.results)\n",
    "    else:\n",
    "        v = observation[tree.col]\n",
    "        branch = None\n",
    "        if isinstance(v, int) or isinstance(v, float):\n",
    "            if v >= tree.value:\n",
    "                branch = tree.tb\n",
    "            else:\n",
    "                branch = tree.fb\n",
    "        else:\n",
    "            if v == tree.value:\n",
    "                branch = tree.tb\n",
    "            else:\n",
    "                branch = tree.fb\n",
    "        return classify(observation, branch)\n",
    "\n",
    "\n",
    "# Classify an observation with missing data\n",
    "def mdclassify(observation, tree):\n",
    "    if tree.results != None:\n",
    "        return prediction(tree.results)\n",
    "    else:\n",
    "        v = observation[tree.col]\n",
    "        if v == None:\n",
    "            tr, fr = mdclassify(observation, tree.tb), mdclassify(observation, tree.fb)\n",
    "            tcount = sum(tr.values())\n",
    "            fcount = sum(fr.values())\n",
    "            tw = float(tcount) / (tcount + fcount)\n",
    "            fw = float(fcount) / (tcount + fcount)\n",
    "            result = {}\n",
    "            for k, v in tr.items(): result[k] = v * tw\n",
    "            for k, v in fr.items(): result[k] = v * fw\n",
    "            return result\n",
    "        else:\n",
    "            if isinstance(v, int) or isinstance(v, float):\n",
    "                if v >= tree.value:\n",
    "                    branch = tree.tb\n",
    "                else:\n",
    "                    branch = tree.fb\n",
    "            else:\n",
    "                if v == tree.value:\n",
    "                    branch = tree.tb\n",
    "                else:\n",
    "                    branch = tree.fb\n",
    "            return mdclassify(observation, branch)\n",
    "\n",
    "def max_depth(tree):\n",
    "    if tree.results != None:\n",
    "        return 0\n",
    "    else:\n",
    "        # Compute the depth of each subtree\n",
    "        tDepth = max_depth(tree.tb)\n",
    "        fDepth = max_depth(tree.fb)\n",
    "\n",
    "        # Use the larger one\n",
    "        if (tDepth > fDepth):\n",
    "            return tDepth + 1\n",
    "        else:\n",
    "            return fDepth + 1"
   ]
  },
  {
   "cell_type": "markdown",
   "metadata": {},
   "source": [
    "## 2. Dataset to numeric\n",
    "\n",
    "The dataset for this lab contains about 450 anonymized student evaluations collected at the University of Texas at Austin, and used in the following publication: __\"Beauty in the Classroom: Instructors' Pulchritude and Putative Pedagogical Productivity\"__. You can learn how the data was collected and the meaning of various data attributes following this [link](https://chance.amstat.org/2013/04/looking-good/).\n",
    "\n",
    "We use a subset of attributes: 'rank', 'ethnicity', 'gender', 'language', 'age', 'class_size', 'class_level',  'avg_beauty_score',  and 'professor_evaluation_score' and try to predict course evaluation score. \n",
    "\n",
    "This smaller dataset can be downloaded from [here](https://drive.google.com/file/d/18wV59AYCVCqL1BIDBYLpL73emp7h8d0T/view?usp=sharing). Download the dataset into your data directory, and update the path to your file in the cell below."
   ]
  },
  {
   "cell_type": "code",
   "execution_count": 7,
   "metadata": {},
   "outputs": [],
   "source": [
    "data_file = \"../../Datasets/StudentEvaluations.csv\""
   ]
  },
  {
   "cell_type": "markdown",
   "metadata": {},
   "source": [
    "We read the dataset into a data frame _df_. First, we will make all attributes numeric, and then we will convert all attributes to categorical labels. The _df_ points to the original dataset. We are going to create two copies: _df_num_ and _df_cat_."
   ]
  },
  {
   "cell_type": "code",
   "execution_count": 8,
   "metadata": {},
   "outputs": [],
   "source": [
    "import pandas as pd\n",
    "df = pd.read_csv(data_file)"
   ]
  },
  {
   "cell_type": "code",
   "execution_count": 9,
   "metadata": {
    "scrolled": true
   },
   "outputs": [
    {
     "name": "stdout",
     "output_type": "stream",
     "text": [
      "Index(['rank', 'ethnicity', 'gender', 'language', 'age', 'cls_students',\n",
      "       'cls_level', 'bty_avg', 'prof_eval', 'course_eval'],\n",
      "      dtype='object')\n"
     ]
    }
   ],
   "source": [
    "print(df.columns)"
   ]
  },
  {
   "cell_type": "code",
   "execution_count": 10,
   "metadata": {},
   "outputs": [
    {
     "name": "stdout",
     "output_type": "stream",
     "text": [
      "463\n"
     ]
    }
   ],
   "source": [
    "print(len(df))"
   ]
  },
  {
   "cell_type": "code",
   "execution_count": 11,
   "metadata": {},
   "outputs": [
    {
     "name": "stdout",
     "output_type": "stream",
     "text": [
      "           rank     ethnicity  gender language  age  cls_students cls_level  \\\n",
      "0  tenure track      minority  female  english   36            43     upper   \n",
      "1  tenure track      minority  female  english   36           125     upper   \n",
      "2  tenure track      minority  female  english   36           125     upper   \n",
      "3  tenure track      minority  female  english   36           123     upper   \n",
      "4       tenured  not minority    male  english   59            20     upper   \n",
      "5       tenured  not minority    male  english   59            40     upper   \n",
      "6       tenured  not minority    male  english   59            44     upper   \n",
      "\n",
      "   bty_avg  prof_eval  course_eval  \n",
      "0      5.0        4.7          4.3  \n",
      "1      5.0        4.1          3.7  \n",
      "2      5.0        3.9          3.6  \n",
      "3      5.0        4.8          4.4  \n",
      "4      3.0        4.6          4.5  \n",
      "5      3.0        4.3          4.0  \n",
      "6      3.0        2.8          2.1  \n"
     ]
    }
   ],
   "source": [
    "print(df[:7])"
   ]
  },
  {
   "cell_type": "markdown",
   "metadata": {},
   "source": [
    "We see that not all attributes are numeric. Let's make them all numeric by using the pandas _replace_ method (see [this post](https://www.geeksforgeeks.org/how-to-convert-categorical-variable-to-numeric-in-pandas/)), which replaces the original values with the predefined set."
   ]
  },
  {
   "cell_type": "code",
   "execution_count": 12,
   "metadata": {},
   "outputs": [],
   "source": [
    "# First, create a copy of the original data frame\n",
    "df_num = df.copy()"
   ]
  },
  {
   "cell_type": "markdown",
   "metadata": {},
   "source": [
    "We need to replace 'rank', 'ethnicity', 'gender', 'language', and 'cls_level' columns.\n",
    "Let's find out what are the values in each column - to know what to replace."
   ]
  },
  {
   "cell_type": "code",
   "execution_count": 13,
   "metadata": {},
   "outputs": [
    {
     "data": {
      "text/plain": [
       "array(['tenure track', 'tenured', 'teaching'], dtype=object)"
      ]
     },
     "execution_count": 13,
     "metadata": {},
     "output_type": "execute_result"
    }
   ],
   "source": [
    "# Rank\n",
    "df_num['rank'].unique()"
   ]
  },
  {
   "cell_type": "code",
   "execution_count": 14,
   "metadata": {},
   "outputs": [
    {
     "data": {
      "text/plain": [
       "array(['minority', 'not minority'], dtype=object)"
      ]
     },
     "execution_count": 14,
     "metadata": {},
     "output_type": "execute_result"
    }
   ],
   "source": [
    "# Ethnicity\n",
    "df_num['ethnicity'].unique()"
   ]
  },
  {
   "cell_type": "code",
   "execution_count": 15,
   "metadata": {},
   "outputs": [
    {
     "data": {
      "text/plain": [
       "array(['female', 'male'], dtype=object)"
      ]
     },
     "execution_count": 15,
     "metadata": {},
     "output_type": "execute_result"
    }
   ],
   "source": [
    "# Gender\n",
    "df_num['gender'].unique()"
   ]
  },
  {
   "cell_type": "code",
   "execution_count": 16,
   "metadata": {},
   "outputs": [
    {
     "data": {
      "text/plain": [
       "array(['english', 'non-english'], dtype=object)"
      ]
     },
     "execution_count": 16,
     "metadata": {},
     "output_type": "execute_result"
    }
   ],
   "source": [
    "# Language\n",
    "df_num['language'].unique()"
   ]
  },
  {
   "cell_type": "code",
   "execution_count": 17,
   "metadata": {},
   "outputs": [
    {
     "data": {
      "text/plain": [
       "array(['upper', 'lower'], dtype=object)"
      ]
     },
     "execution_count": 17,
     "metadata": {},
     "output_type": "execute_result"
    }
   ],
   "source": [
    "# Class level\n",
    "df_num['cls_level'].unique()"
   ]
  },
  {
   "cell_type": "markdown",
   "metadata": {},
   "source": [
    "Assigning a numeric code to each category."
   ]
  },
  {
   "cell_type": "code",
   "execution_count": 18,
   "metadata": {},
   "outputs": [],
   "source": [
    "df_num['rank'].replace(['tenure track', 'tenured', 'teaching'], [1, 2, 3], inplace=True)\n",
    "df_num['ethnicity'].replace(['minority', 'not minority'], [1, 0], inplace=True)\n",
    "df_num['gender'].replace(['female', 'male'], [1, 2], inplace=True)\n",
    "df_num['language'].replace(['english', 'non-english'], [1, 0], inplace=True)\n",
    "df_num['cls_level'].replace(['upper', 'lower'], [2,1], inplace=True)"
   ]
  },
  {
   "cell_type": "markdown",
   "metadata": {},
   "source": [
    "Make the class label an integer by rounding course evaluation scores."
   ]
  },
  {
   "cell_type": "code",
   "execution_count": 19,
   "metadata": {},
   "outputs": [
    {
     "data": {
      "text/plain": [
       "dtype('int64')"
      ]
     },
     "execution_count": 19,
     "metadata": {},
     "output_type": "execute_result"
    }
   ],
   "source": [
    "df_num['course_eval'] = df_num['course_eval'].round(0).astype(int)\n",
    "\n",
    "df_num['course_eval'].dtype"
   ]
  },
  {
   "cell_type": "markdown",
   "metadata": {},
   "source": [
    "And check what it looks like now:"
   ]
  },
  {
   "cell_type": "code",
   "execution_count": 20,
   "metadata": {},
   "outputs": [
    {
     "data": {
      "text/html": [
       "<div>\n",
       "<style scoped>\n",
       "    .dataframe tbody tr th:only-of-type {\n",
       "        vertical-align: middle;\n",
       "    }\n",
       "\n",
       "    .dataframe tbody tr th {\n",
       "        vertical-align: top;\n",
       "    }\n",
       "\n",
       "    .dataframe thead th {\n",
       "        text-align: right;\n",
       "    }\n",
       "</style>\n",
       "<table border=\"1\" class=\"dataframe\">\n",
       "  <thead>\n",
       "    <tr style=\"text-align: right;\">\n",
       "      <th></th>\n",
       "      <th>rank</th>\n",
       "      <th>ethnicity</th>\n",
       "      <th>gender</th>\n",
       "      <th>language</th>\n",
       "      <th>age</th>\n",
       "      <th>cls_students</th>\n",
       "      <th>cls_level</th>\n",
       "      <th>bty_avg</th>\n",
       "      <th>prof_eval</th>\n",
       "      <th>course_eval</th>\n",
       "    </tr>\n",
       "  </thead>\n",
       "  <tbody>\n",
       "    <tr>\n",
       "      <th>0</th>\n",
       "      <td>1</td>\n",
       "      <td>1</td>\n",
       "      <td>1</td>\n",
       "      <td>1</td>\n",
       "      <td>36</td>\n",
       "      <td>43</td>\n",
       "      <td>2</td>\n",
       "      <td>5.0</td>\n",
       "      <td>4.7</td>\n",
       "      <td>4</td>\n",
       "    </tr>\n",
       "    <tr>\n",
       "      <th>1</th>\n",
       "      <td>1</td>\n",
       "      <td>1</td>\n",
       "      <td>1</td>\n",
       "      <td>1</td>\n",
       "      <td>36</td>\n",
       "      <td>125</td>\n",
       "      <td>2</td>\n",
       "      <td>5.0</td>\n",
       "      <td>4.1</td>\n",
       "      <td>4</td>\n",
       "    </tr>\n",
       "    <tr>\n",
       "      <th>2</th>\n",
       "      <td>1</td>\n",
       "      <td>1</td>\n",
       "      <td>1</td>\n",
       "      <td>1</td>\n",
       "      <td>36</td>\n",
       "      <td>125</td>\n",
       "      <td>2</td>\n",
       "      <td>5.0</td>\n",
       "      <td>3.9</td>\n",
       "      <td>4</td>\n",
       "    </tr>\n",
       "    <tr>\n",
       "      <th>3</th>\n",
       "      <td>1</td>\n",
       "      <td>1</td>\n",
       "      <td>1</td>\n",
       "      <td>1</td>\n",
       "      <td>36</td>\n",
       "      <td>123</td>\n",
       "      <td>2</td>\n",
       "      <td>5.0</td>\n",
       "      <td>4.8</td>\n",
       "      <td>4</td>\n",
       "    </tr>\n",
       "    <tr>\n",
       "      <th>4</th>\n",
       "      <td>2</td>\n",
       "      <td>0</td>\n",
       "      <td>2</td>\n",
       "      <td>1</td>\n",
       "      <td>59</td>\n",
       "      <td>20</td>\n",
       "      <td>2</td>\n",
       "      <td>3.0</td>\n",
       "      <td>4.6</td>\n",
       "      <td>4</td>\n",
       "    </tr>\n",
       "    <tr>\n",
       "      <th>5</th>\n",
       "      <td>2</td>\n",
       "      <td>0</td>\n",
       "      <td>2</td>\n",
       "      <td>1</td>\n",
       "      <td>59</td>\n",
       "      <td>40</td>\n",
       "      <td>2</td>\n",
       "      <td>3.0</td>\n",
       "      <td>4.3</td>\n",
       "      <td>4</td>\n",
       "    </tr>\n",
       "    <tr>\n",
       "      <th>6</th>\n",
       "      <td>2</td>\n",
       "      <td>0</td>\n",
       "      <td>2</td>\n",
       "      <td>1</td>\n",
       "      <td>59</td>\n",
       "      <td>44</td>\n",
       "      <td>2</td>\n",
       "      <td>3.0</td>\n",
       "      <td>2.8</td>\n",
       "      <td>2</td>\n",
       "    </tr>\n",
       "  </tbody>\n",
       "</table>\n",
       "</div>"
      ],
      "text/plain": [
       "   rank  ethnicity  gender  language  age  cls_students  cls_level  bty_avg  \\\n",
       "0     1          1       1         1   36            43          2      5.0   \n",
       "1     1          1       1         1   36           125          2      5.0   \n",
       "2     1          1       1         1   36           125          2      5.0   \n",
       "3     1          1       1         1   36           123          2      5.0   \n",
       "4     2          0       2         1   59            20          2      3.0   \n",
       "5     2          0       2         1   59            40          2      3.0   \n",
       "6     2          0       2         1   59            44          2      3.0   \n",
       "\n",
       "   prof_eval  course_eval  \n",
       "0        4.7            4  \n",
       "1        4.1            4  \n",
       "2        3.9            4  \n",
       "3        4.8            4  \n",
       "4        4.6            4  \n",
       "5        4.3            4  \n",
       "6        2.8            2  "
      ]
     },
     "execution_count": 20,
     "metadata": {},
     "output_type": "execute_result"
    }
   ],
   "source": [
    "df_num[:7]"
   ]
  },
  {
   "cell_type": "markdown",
   "metadata": {},
   "source": [
    "Let's explore if there is any correlation between course score and any other attributes in the dataset."
   ]
  },
  {
   "cell_type": "code",
   "execution_count": 21,
   "metadata": {
    "scrolled": true
   },
   "outputs": [
    {
     "data": {
      "text/plain": [
       "<AxesSubplot:>"
      ]
     },
     "execution_count": 21,
     "metadata": {},
     "output_type": "execute_result"
    },
    {
     "data": {
      "image/png": "[encoded data removed]",
      "text/plain": [
       "<Figure size 432x288 with 2 Axes>"
      ]
     },
     "metadata": {
      "needs_background": "light"
     },
     "output_type": "display_data"
    }
   ],
   "source": [
    "import seaborn as sns\n",
    "import matplotlib.pyplot as plt\n",
    "%matplotlib inline\n",
    "\n",
    "\n",
    "corr = df_num.corr()\n",
    "sns.heatmap(corr)"
   ]
  },
  {
   "cell_type": "markdown",
   "metadata": {},
   "source": [
    "## 3. Decision Tree: numeric dataset\n",
    "### 3.1. Using custom ID3 algorithm"
   ]
  },
  {
   "cell_type": "code",
   "execution_count": 22,
   "metadata": {
    "scrolled": true
   },
   "outputs": [],
   "source": [
    "data_rows = df_num.to_numpy().tolist()"
   ]
  },
  {
   "cell_type": "code",
   "execution_count": 23,
   "metadata": {},
   "outputs": [],
   "source": [
    "columns_list = df_num.columns.to_numpy().tolist()"
   ]
  },
  {
   "cell_type": "markdown",
   "metadata": {},
   "source": [
    "This would be a regression tree, as we are trying to predict a numeric score. We have to use __variance__ as a measure of node purity."
   ]
  },
  {
   "cell_type": "code",
   "execution_count": 24,
   "metadata": {},
   "outputs": [],
   "source": [
    "tree = buildtree(data_rows, score_func=variance, min_improvement=0, min_samples=0)"
   ]
  },
  {
   "cell_type": "code",
   "execution_count": 25,
   "metadata": {},
   "outputs": [
    {
     "name": "stdout",
     "output_type": "stream",
     "text": [
      "prof_eval: >=3.8? \n",
      "  T->prof_eval: >=4.8? \n",
      "    T->cls_students: >=39.0? \n",
      "      T->rank: >=2.0? \n",
      "        T->age: >=62.0? \n",
      "          T->{5.0: '100%'}\n",
      "          F->cls_students: >=68.0? \n",
      "            T->cls_students: >=537.0? \n",
      "              T->cls_students: >=581.0? \n",
      "                T->{5.0: '100%'}\n",
      "                F->cls_students: >=574.0? \n",
      "                  T->cls_students: >=579.0? \n",
      "                    T->{4.0: '100%'}\n",
      "                    F->{5.0: '100%'}\n",
      "                  F->{4.0: '100%'}\n",
      "              F->{5.0: '100%'}\n",
      "            F->rank: >=3.0? \n",
      "              T->{5.0: '100%'}\n",
      "              F->{4.0: '100%'}\n",
      "        F->{4.0: '100%'}\n",
      "      F->age: >=60.0? \n",
      "        T->age: >=64.0? \n",
      "          T->{5.0: '100%'}\n",
      "          F->cls_students: >=34.0? \n",
      "            T->{5.0: '100%'}\n",
      "            F->{4.0: '100%'}\n",
      "        F->gender: >=2.0? \n",
      "          T->{5.0: '100%'}\n",
      "          F->cls_level: >=2.0? \n",
      "            T->rank: >=2.0? \n",
      "              T->cls_students: >=25.0? \n",
      "                T->{4.0: '100%'}\n",
      "                F->{5.0: '100%'}\n",
      "              F->cls_students: >=14.0? \n",
      "                T->cls_students: >=26.0? \n",
      "                  T->{5.0: '100%'}\n",
      "                  F->{4.0: '100%'}\n",
      "                F->{5.0: '100%'}\n",
      "            F->{5.0: '100%'}\n",
      "    F->prof_eval: >=4.6? \n",
      "      T->cls_students: >=27.0? \n",
      "        T->prof_eval: >=4.7? \n",
      "          T->cls_students: >=38.0? \n",
      "            T->cls_level: >=2.0? \n",
      "              T->{4.0: '100%'}\n",
      "              F->age: >=60.0? \n",
      "                T->{4.0: '100%'}\n",
      "                F->{5.0: '100%'}\n",
      "            F->rank: >=3.0? \n",
      "              T->{4.0: '100%'}\n",
      "              F->{5.0: '100%'}\n",
      "          F->{4.0: '100%'}\n",
      "        F->cls_students: >=19.0? \n",
      "          T->age: >=39.0? \n",
      "            T->age: >=59.0? \n",
      "              T->{4.0: '100%'}\n",
      "              F->{5.0: '100%'}\n",
      "            F->{4.0: '100%'}\n",
      "          F->rank: >=2.0? \n",
      "            T->bty_avg: >=3.667? \n",
      "              T->prof_eval: >=4.7? \n",
      "                T->{4.0: '100%'}\n",
      "                F->cls_students: >=17.0? \n",
      "                  T->{5.0: '100%'}\n",
      "                  F->gender: >=2.0? \n",
      "                    T->cls_students: >=14.0? \n",
      "                      T->{4.0: '100%'}\n",
      "                      F->{5.0: '100%'}\n",
      "                    F->{4.0: '100%'}\n",
      "              F->{4.0: '100%'}\n",
      "            F->prof_eval: >=4.7? \n",
      "              T->{5.0: '100%'}\n",
      "              F->gender: >=2.0? \n",
      "                T->cls_students: >=14.0? \n",
      "                  T->{5.0: '100%'}\n",
      "                  F->{4.0: '100%'}\n",
      "                F->{4.0: '100%'}\n",
      "      F->age: >=73.0? \n",
      "        T->cls_students: >=17.0? \n",
      "          T->{5.0: '100%'}\n",
      "          F->{4.0: '100%'}\n",
      "        F->prof_eval: >=3.9? \n",
      "          T->language: >=1.0? \n",
      "            T->cls_students: >=15.0? \n",
      "              T->age: >=33.0? \n",
      "                T->bty_avg: >=6.332999999999999? \n",
      "                  T->bty_avg: >=6.5? \n",
      "                    T->{4.0: '100%'}\n",
      "                    F->cls_students: >=78.0? \n",
      "                      T->{4.0: '100%'}\n",
      "                      F->{5.0: '100%'}\n",
      "                  F->prof_eval: >=4.0? \n",
      "                    T->{4.0: '100%'}\n",
      "                    F->bty_avg: >=4.833? \n",
      "                      T->cls_students: >=62.0? \n",
      "                        T->{4.0: '100%'}\n",
      "                        F->{3.0: '100%'}\n",
      "                      F->{4.0: '100%'}\n",
      "                F->cls_students: >=22.0? \n",
      "                  T->{4.0: '100%'}\n",
      "                  F->{3.0: '100%'}\n",
      "              F->age: >=43.0? \n",
      "                T->{4.0: '100%'}\n",
      "                F->prof_eval: >=4.4? \n",
      "                  T->{5.0: '100%'}\n",
      "                  F->{4.0: '100%'}\n",
      "            F->cls_students: >=66.0? \n",
      "              T->{3.0: '100%'}\n",
      "              F->{4.0: '100%'}\n",
      "          F->cls_students: >=11.0? \n",
      "            T->bty_avg: >=2.333? \n",
      "              T->ethnicity: >=1.0? \n",
      "                T->age: >=52.0? \n",
      "                  T->{4.0: '100%'}\n",
      "                  F->cls_students: >=16.0? \n",
      "                    T->{3.0: '100%'}\n",
      "                    F->{4.0: '100%'}\n",
      "                F->{4.0: '100%'}\n",
      "              F->{3.0: '100%'}\n",
      "            F->{3.0: '100%'}\n",
      "  F->prof_eval: >=3.5? \n",
      "    T->age: >=50.0? \n",
      "      T->age: >=70.0? \n",
      "        T->{3.0: '100%'}\n",
      "        F->cls_students: >=122.0? \n",
      "          T->cls_students: >=184.0? \n",
      "            T->{4.0: '100%'}\n",
      "            F->{3.0: '100%'}\n",
      "          F->cls_students: >=47.0? \n",
      "            T->{4.0: '100%'}\n",
      "            F->age: >=58.0? \n",
      "              T->{4.0: '100%'}\n",
      "              F->cls_students: >=18.0? \n",
      "                T->ethnicity: >=1.0? \n",
      "                  T->{4.0: '100%'}\n",
      "                  F->rank: >=3.0? \n",
      "                    T->cls_students: >=21.0? \n",
      "                      T->cls_students: >=22.0? \n",
      "                        T->cls_students: >=36.0? \n",
      "                          T->{4.0: '100%'}\n",
      "                          F->age: >=57.0? \n",
      "                            T->cls_students: >=28.0? \n",
      "                              T->{3.0: '100%'}\n",
      "                              F->{4.0: '100%'}\n",
      "                            F->{3.0: '100%'}\n",
      "                        F->{4.0: '100%'}\n",
      "                      F->{3.0: '100%'}\n",
      "                    F->{3.0: '100%'}\n",
      "                F->{4.0: '100%'}\n",
      "      F->bty_avg: >=7.0? \n",
      "        T->{4.0: '100%'}\n",
      "        F->cls_students: >=103.0? \n",
      "          T->{4.0: '100%'}\n",
      "          F->rank: >=3.0? \n",
      "            T->gender: >=2.0? \n",
      "              T->{4.0: '100%'}\n",
      "              F->{3.0: '100%'}\n",
      "            F->age: >=49.0? \n",
      "              T->cls_students: >=29.0? \n",
      "                T->{3.0: '100%'}\n",
      "                F->{4.0: '100%'}\n",
      "              F->{3.0: '100%'}\n",
      "    F->prof_eval: >=2.7? \n",
      "      T->cls_students: >=22.0? \n",
      "        T->prof_eval: >=2.9? \n",
      "          T->{3.0: '100%'}\n",
      "          F->cls_level: >=2.0? \n",
      "            T->age: >=64.0? \n",
      "              T->{3.0: '100%'}\n",
      "              F->{2.0: '100%'}\n",
      "            F->{3.0: '100%'}\n",
      "        F->cls_level: >=2.0? \n",
      "          T->age: >=47.0? \n",
      "            T->{3.0: '100%'}\n",
      "            F->age: >=37.0? \n",
      "              T->{4.0: '100%'}\n",
      "              F->{3.0: '100%'}\n",
      "          F->{4.0: '100%'}\n",
      "      F->gender: >=2.0? \n",
      "        T->cls_students: >=32.0? \n",
      "          T->{2.0: '100%'}\n",
      "          F->{3.0: '100%'}\n",
      "        F->{2.0: '100%'}\n"
     ]
    }
   ],
   "source": [
    "print_tree(tree, '', columns_list)"
   ]
  },
  {
   "cell_type": "markdown",
   "metadata": {},
   "source": [
    "### 3.2. Using sklearn library\n",
    "The decision tree algorithm in sklearn library is not implemented very well. It requires all the attributes to be numeric - while decision trees work best with the categorical attributes. Nevertheless, we will try to run it and compare the results."
   ]
  },
  {
   "cell_type": "code",
   "execution_count": 26,
   "metadata": {},
   "outputs": [],
   "source": [
    "from sklearn.tree import DecisionTreeClassifier\n",
    "from sklearn.model_selection import train_test_split\n",
    "import pandas as pd\n",
    "import numpy as np\n",
    "from sklearn import tree"
   ]
  },
  {
   "cell_type": "markdown",
   "metadata": {},
   "source": [
    "The class label has to be binary. So we are going to replace the 'course_eval' column with 3 bins, corresponding to the score:"
   ]
  },
  {
   "cell_type": "markdown",
   "metadata": {},
   "source": [
    "Divide dataset into features and class label."
   ]
  },
  {
   "cell_type": "code",
   "execution_count": 27,
   "metadata": {},
   "outputs": [
    {
     "name": "stdout",
     "output_type": "stream",
     "text": [
      "Index(['rank', 'ethnicity', 'gender', 'language', 'age', 'cls_students',\n",
      "       'cls_level', 'bty_avg', 'prof_eval'],\n",
      "      dtype='object')\n",
      "Index(['course_eval'], dtype='object')\n"
     ]
    }
   ],
   "source": [
    "X = df_num.loc[:, df_num.columns != 'course_eval']\n",
    "print(X.columns)\n",
    "\n",
    "Y = df_num.loc[:, df_num.columns == 'course_eval']\n",
    "print(Y.columns)"
   ]
  },
  {
   "cell_type": "markdown",
   "metadata": {},
   "source": [
    "Split dataset intro training and testing."
   ]
  },
  {
   "cell_type": "code",
   "execution_count": 28,
   "metadata": {},
   "outputs": [],
   "source": [
    "X_train, X_test, Y_train, Y_test = train_test_split(X, Y, random_state=0)"
   ]
  },
  {
   "cell_type": "markdown",
   "metadata": {},
   "source": [
    "Different parameters can be specified to build the model:\n",
    "\n",
    "`model = tree.DecisionTreeClassifier(\n",
    "        criterion='entropy', \n",
    "        max_depth=None, \n",
    "        min_samples_split=2, \n",
    "        min_samples_leaf=1, \n",
    "        max_features=None, \n",
    "        random_state=None, \n",
    "        min_density=None, \n",
    "        compute_importances=None, \n",
    "        max_leaf_nodes=None)`"
   ]
  },
  {
   "cell_type": "code",
   "execution_count": 29,
   "metadata": {},
   "outputs": [
    {
     "data": {
      "text/plain": [
       "DecisionTreeClassifier(criterion='entropy', max_depth=7)"
      ]
     },
     "execution_count": 29,
     "metadata": {},
     "output_type": "execute_result"
    }
   ],
   "source": [
    "model = tree.DecisionTreeClassifier(criterion='entropy', max_depth = 7)\n",
    "model.fit(X_train,Y_train)"
   ]
  },
  {
   "cell_type": "code",
   "execution_count": 30,
   "metadata": {
    "scrolled": false
   },
   "outputs": [
    {
     "name": "stdout",
     "output_type": "stream",
     "text": [
      "|--- prof_eval <= 3.75\n",
      "|   |--- prof_eval <= 3.45\n",
      "|   |   |--- prof_eval <= 2.60\n",
      "|   |   |   |--- class: 2\n",
      "|   |   |--- prof_eval >  2.60\n",
      "|   |   |   |--- bty_avg <= 5.83\n",
      "|   |   |   |   |--- class: 3\n",
      "|   |   |   |--- bty_avg >  5.83\n",
      "|   |   |   |   |--- cls_students <= 22.50\n",
      "|   |   |   |   |   |--- class: 4\n",
      "|   |   |   |   |--- cls_students >  22.50\n",
      "|   |   |   |   |   |--- class: 3\n",
      "|   |--- prof_eval >  3.45\n",
      "|   |   |--- age <= 48.00\n",
      "|   |   |   |--- bty_avg <= 7.25\n",
      "|   |   |   |   |--- rank <= 1.50\n",
      "|   |   |   |   |   |--- class: 3\n",
      "|   |   |   |   |--- rank >  1.50\n",
      "|   |   |   |   |   |--- cls_students <= 33.00\n",
      "|   |   |   |   |   |   |--- class: 3\n",
      "|   |   |   |   |   |--- cls_students >  33.00\n",
      "|   |   |   |   |   |   |--- cls_students <= 57.00\n",
      "|   |   |   |   |   |   |   |--- class: 4\n",
      "|   |   |   |   |   |   |--- cls_students >  57.00\n",
      "|   |   |   |   |   |   |   |--- class: 3\n",
      "|   |   |   |--- bty_avg >  7.25\n",
      "|   |   |   |   |--- class: 4\n",
      "|   |   |--- age >  48.00\n",
      "|   |   |   |--- cls_students <= 110.00\n",
      "|   |   |   |   |--- cls_students <= 45.50\n",
      "|   |   |   |   |   |--- language <= 0.50\n",
      "|   |   |   |   |   |   |--- class: 4\n",
      "|   |   |   |   |   |--- language >  0.50\n",
      "|   |   |   |   |   |   |--- age <= 57.50\n",
      "|   |   |   |   |   |   |   |--- class: 4\n",
      "|   |   |   |   |   |   |--- age >  57.50\n",
      "|   |   |   |   |   |   |   |--- class: 4\n",
      "|   |   |   |   |--- cls_students >  45.50\n",
      "|   |   |   |   |   |--- class: 4\n",
      "|   |   |   |--- cls_students >  110.00\n",
      "|   |   |   |   |--- cls_students <= 174.00\n",
      "|   |   |   |   |   |--- class: 3\n",
      "|   |   |   |   |--- cls_students >  174.00\n",
      "|   |   |   |   |   |--- class: 4\n",
      "|--- prof_eval >  3.75\n",
      "|   |--- prof_eval <= 4.55\n",
      "|   |   |--- cls_students <= 20.50\n",
      "|   |   |   |--- prof_eval <= 4.25\n",
      "|   |   |   |   |--- cls_students <= 10.50\n",
      "|   |   |   |   |   |--- rank <= 2.00\n",
      "|   |   |   |   |   |   |--- class: 4\n",
      "|   |   |   |   |   |--- rank >  2.00\n",
      "|   |   |   |   |   |   |--- class: 3\n",
      "|   |   |   |   |--- cls_students >  10.50\n",
      "|   |   |   |   |   |--- class: 4\n",
      "|   |   |   |--- prof_eval >  4.25\n",
      "|   |   |   |   |--- age <= 68.00\n",
      "|   |   |   |   |   |--- age <= 42.50\n",
      "|   |   |   |   |   |   |--- age <= 41.00\n",
      "|   |   |   |   |   |   |   |--- class: 4\n",
      "|   |   |   |   |   |   |--- age >  41.00\n",
      "|   |   |   |   |   |   |   |--- class: 5\n",
      "|   |   |   |   |   |--- age >  42.50\n",
      "|   |   |   |   |   |   |--- bty_avg <= 5.92\n",
      "|   |   |   |   |   |   |   |--- class: 4\n",
      "|   |   |   |   |   |   |--- bty_avg >  5.92\n",
      "|   |   |   |   |   |   |   |--- class: 4\n",
      "|   |   |   |   |--- age >  68.00\n",
      "|   |   |   |   |   |--- class: 5\n",
      "|   |   |--- cls_students >  20.50\n",
      "|   |   |   |--- rank <= 1.50\n",
      "|   |   |   |   |--- cls_students <= 82.50\n",
      "|   |   |   |   |   |--- cls_students <= 55.00\n",
      "|   |   |   |   |   |   |--- bty_avg <= 5.83\n",
      "|   |   |   |   |   |   |   |--- class: 4\n",
      "|   |   |   |   |   |   |--- bty_avg >  5.83\n",
      "|   |   |   |   |   |   |   |--- class: 3\n",
      "|   |   |   |   |   |--- cls_students >  55.00\n",
      "|   |   |   |   |   |   |--- cls_students <= 70.00\n",
      "|   |   |   |   |   |   |   |--- class: 3\n",
      "|   |   |   |   |   |   |--- cls_students >  70.00\n",
      "|   |   |   |   |   |   |   |--- class: 3\n",
      "|   |   |   |   |--- cls_students >  82.50\n",
      "|   |   |   |   |   |--- class: 4\n",
      "|   |   |   |--- rank >  1.50\n",
      "|   |   |   |   |--- class: 4\n",
      "|   |--- prof_eval >  4.55\n",
      "|   |   |--- cls_students <= 36.50\n",
      "|   |   |   |--- age <= 60.50\n",
      "|   |   |   |   |--- ethnicity <= 0.50\n",
      "|   |   |   |   |   |--- prof_eval <= 4.65\n",
      "|   |   |   |   |   |   |--- bty_avg <= 6.25\n",
      "|   |   |   |   |   |   |   |--- class: 4\n",
      "|   |   |   |   |   |   |--- bty_avg >  6.25\n",
      "|   |   |   |   |   |   |   |--- class: 5\n",
      "|   |   |   |   |   |--- prof_eval >  4.65\n",
      "|   |   |   |   |   |   |--- bty_avg <= 3.58\n",
      "|   |   |   |   |   |   |   |--- class: 5\n",
      "|   |   |   |   |   |   |--- bty_avg >  3.58\n",
      "|   |   |   |   |   |   |   |--- class: 5\n",
      "|   |   |   |   |--- ethnicity >  0.50\n",
      "|   |   |   |   |   |--- class: 5\n",
      "|   |   |   |--- age >  60.50\n",
      "|   |   |   |   |--- class: 4\n",
      "|   |   |--- cls_students >  36.50\n",
      "|   |   |   |--- prof_eval <= 4.75\n",
      "|   |   |   |   |--- class: 4\n",
      "|   |   |   |--- prof_eval >  4.75\n",
      "|   |   |   |   |--- cls_students <= 197.50\n",
      "|   |   |   |   |   |--- rank <= 2.50\n",
      "|   |   |   |   |   |   |--- cls_students <= 73.50\n",
      "|   |   |   |   |   |   |   |--- class: 4\n",
      "|   |   |   |   |   |   |--- cls_students >  73.50\n",
      "|   |   |   |   |   |   |   |--- class: 4\n",
      "|   |   |   |   |   |--- rank >  2.50\n",
      "|   |   |   |   |   |   |--- class: 5\n",
      "|   |   |   |   |--- cls_students >  197.50\n",
      "|   |   |   |   |   |--- class: 5\n",
      "\n"
     ]
    }
   ],
   "source": [
    "columns_list = df_num.columns.to_numpy().tolist()\n",
    "from sklearn.tree import export_text\n",
    "r = export_text(model, feature_names=columns_list[:-1])\n",
    "print(r)"
   ]
  },
  {
   "cell_type": "markdown",
   "metadata": {},
   "source": [
    "## 4. Categorical dataset"
   ]
  },
  {
   "cell_type": "markdown",
   "metadata": {},
   "source": [
    "We are going to replace all the numeric columns in _df_ by categorical labels, using [Pandas _cut_ method](https://pandas.pydata.org/pandas-docs/stable/reference/api/pandas.cut.html).\n",
    "\n",
    "First we create a copy of the original dataset."
   ]
  },
  {
   "cell_type": "code",
   "execution_count": 31,
   "metadata": {},
   "outputs": [],
   "source": [
    "df_cat = df.copy()"
   ]
  },
  {
   "cell_type": "code",
   "execution_count": 32,
   "metadata": {},
   "outputs": [
    {
     "name": "stdout",
     "output_type": "stream",
     "text": [
      "Index(['rank', 'ethnicity', 'gender', 'language', 'age', 'cls_students',\n",
      "       'cls_level', 'bty_avg', 'prof_eval', 'course_eval'],\n",
      "      dtype='object')\n",
      "           rank     ethnicity  gender language  age  cls_students cls_level  \\\n",
      "0  tenure track      minority  female  english   36            43     upper   \n",
      "1  tenure track      minority  female  english   36           125     upper   \n",
      "2  tenure track      minority  female  english   36           125     upper   \n",
      "3  tenure track      minority  female  english   36           123     upper   \n",
      "4       tenured  not minority    male  english   59            20     upper   \n",
      "\n",
      "   bty_avg  prof_eval  course_eval  \n",
      "0      5.0        4.7          4.3  \n",
      "1      5.0        4.1          3.7  \n",
      "2      5.0        3.9          3.6  \n",
      "3      5.0        4.8          4.4  \n",
      "4      3.0        4.6          4.5  \n"
     ]
    }
   ],
   "source": [
    "print(df_cat.columns)\n",
    "print(df_cat[:5])"
   ]
  },
  {
   "cell_type": "markdown",
   "metadata": {},
   "source": [
    "We need to bin columns 'age', 'cls_students', 'bty_avg', 'prof_eval', and 'course_eval'. Everything else is already categorical.\n",
    "\n",
    "First thing is to determine the domain for each numeric column."
   ]
  },
  {
   "cell_type": "code",
   "execution_count": 33,
   "metadata": {},
   "outputs": [
    {
     "name": "stdout",
     "output_type": "stream",
     "text": [
      "From: 29 to 73\n"
     ]
    }
   ],
   "source": [
    "# Age\n",
    "age_column = df_cat[\"age\"]\n",
    "print(\"From:\", age_column.min(), \"to\", age_column.max())"
   ]
  },
  {
   "cell_type": "code",
   "execution_count": 34,
   "metadata": {},
   "outputs": [
    {
     "name": "stdout",
     "output_type": "stream",
     "text": [
      "From: 1.6669999999999998 to 8.167\n"
     ]
    }
   ],
   "source": [
    "# Beauty score\n",
    "bty_ave_column = df_cat[\"bty_avg\"]\n",
    "print(\"From:\", bty_ave_column.min(), \"to\", bty_ave_column.max())"
   ]
  },
  {
   "cell_type": "code",
   "execution_count": 35,
   "metadata": {},
   "outputs": [
    {
     "name": "stdout",
     "output_type": "stream",
     "text": [
      "From: 8 to 581\n"
     ]
    }
   ],
   "source": [
    "# Class size\n",
    "num_students_column = df_cat[\"cls_students\"]\n",
    "print(\"From:\", num_students_column.min(), \"to\", num_students_column.max())"
   ]
  },
  {
   "cell_type": "code",
   "execution_count": 36,
   "metadata": {},
   "outputs": [
    {
     "name": "stdout",
     "output_type": "stream",
     "text": [
      "From: 2.3 to 5.0\n"
     ]
    }
   ],
   "source": [
    "# Professor score\n",
    "prof_eval_column = df_cat[\"prof_eval\"]\n",
    "print(\"From:\", prof_eval_column.min(), \"to\", prof_eval_column.max())"
   ]
  },
  {
   "cell_type": "code",
   "execution_count": 37,
   "metadata": {},
   "outputs": [
    {
     "name": "stdout",
     "output_type": "stream",
     "text": [
      "From: 2.1 to 5.0\n"
     ]
    }
   ],
   "source": [
    "# Course score (class label)\n",
    "course_eval_column = df_cat[\"course_eval\"]\n",
    "print(\"From:\", course_eval_column.min(), \"to\", course_eval_column.max())"
   ]
  },
  {
   "cell_type": "code",
   "execution_count": 38,
   "metadata": {},
   "outputs": [],
   "source": [
    "import numpy as np\n",
    "\n",
    "# Age to bins\n",
    "bins = [20, 35, 50, 65, np.inf]\n",
    "names = [ '20-35', '35-50',  '50-65', '65+']\n",
    "\n",
    "df_cat['age'] = pd.cut(df_cat['age'], bins, labels=names)\n",
    "\n",
    "# Class size to bins\n",
    "bins = [0, 15, 30, 50, 100, np.inf]\n",
    "names = [ '<15', '15-30',  '30-50', '50-100', '100+']\n",
    "\n",
    "df_cat['cls_students'] = pd.cut(df_cat['cls_students'], bins, labels=names)\n",
    "\n",
    "# Beauty average to bins\n",
    "bins = [0, 3, 6, 9, np.inf]\n",
    "names = [ '<3', '3-6',  '6-9', '9+']\n",
    "\n",
    "df_cat['bty_avg'] = pd.cut(df_cat['bty_avg'], bins, labels=names)\n",
    "\n",
    "# Professor score to bins\n",
    "bins = [0, 2, 3, 4, 4.5, np.inf]\n",
    "names = [ '<2', '2-3',  '3-4', '4-4.5', '4.5+']\n",
    "\n",
    "df_cat['prof_eval'] = pd.cut(df_cat['prof_eval'], bins, labels=names)\n",
    "\n",
    "# Course score to class label\n",
    "bins = [0, 2, 3, 4, 4.5, np.inf]\n",
    "names = [ 'bad', 'fair',  'average', 'good', 'excellent']\n",
    "\n",
    "df_cat['course_eval'] = pd.cut(df_cat['course_eval'], bins, labels=names)\n"
   ]
  },
  {
   "cell_type": "code",
   "execution_count": 39,
   "metadata": {},
   "outputs": [
    {
     "name": "stdout",
     "output_type": "stream",
     "text": [
      "Index(['rank', 'ethnicity', 'gender', 'language', 'age', 'cls_students',\n",
      "       'cls_level', 'bty_avg', 'prof_eval', 'course_eval'],\n",
      "      dtype='object')\n",
      "           rank     ethnicity  gender language    age cls_students cls_level  \\\n",
      "0  tenure track      minority  female  english  35-50        30-50     upper   \n",
      "1  tenure track      minority  female  english  35-50         100+     upper   \n",
      "2  tenure track      minority  female  english  35-50         100+     upper   \n",
      "3  tenure track      minority  female  english  35-50         100+     upper   \n",
      "4       tenured  not minority    male  english  50-65        15-30     upper   \n",
      "\n",
      "  bty_avg prof_eval course_eval  \n",
      "0     3-6      4.5+        good  \n",
      "1     3-6     4-4.5     average  \n",
      "2     3-6       3-4     average  \n",
      "3     3-6      4.5+        good  \n",
      "4      <3      4.5+        good  \n"
     ]
    }
   ],
   "source": [
    "print(df_cat.columns)\n",
    "print(df_cat[:5])"
   ]
  },
  {
   "cell_type": "markdown",
   "metadata": {},
   "source": [
    "## 5. Decision Tree: categorical dataset"
   ]
  },
  {
   "cell_type": "code",
   "execution_count": 40,
   "metadata": {
    "scrolled": true
   },
   "outputs": [],
   "source": [
    "data_rows = df_cat.to_numpy().tolist()"
   ]
  },
  {
   "cell_type": "code",
   "execution_count": 41,
   "metadata": {},
   "outputs": [],
   "source": [
    "columns_list = df_cat.columns.to_numpy().tolist()"
   ]
  },
  {
   "cell_type": "markdown",
   "metadata": {},
   "source": [
    "Now this is a decision tree (classification), we use entropy as a measure of leaf purity."
   ]
  },
  {
   "cell_type": "code",
   "execution_count": 42,
   "metadata": {},
   "outputs": [],
   "source": [
    "tree = buildtree(data_rows, score_func=entropy, min_improvement=0, min_samples=0)"
   ]
  },
  {
   "cell_type": "code",
   "execution_count": 43,
   "metadata": {},
   "outputs": [
    {
     "name": "stdout",
     "output_type": "stream",
     "text": [
      "prof_eval: 4.5+? \n",
      "  T->cls_students: 15-30? \n",
      "    T->bty_avg: <3? \n",
      "      T->{'good': '100%'}\n",
      "      F->cls_level: lower? \n",
      "        T->ethnicity: not minority? \n",
      "          T->rank: tenured? \n",
      "            T->gender: female? \n",
      "              T->{'excellent': '100%'}\n",
      "              F->age: 50-65? \n",
      "                T->{'good': '100%'}\n",
      "                F->{'excellent': '100%'}\n",
      "            F->gender: female? \n",
      "              T->bty_avg: 6-9? \n",
      "                T->{'good': '50%', 'excellent': '50%'}\n",
      "                F->{'excellent': '100%'}\n",
      "              F->{'excellent': '100%'}\n",
      "          F->{'excellent': '100%'}\n",
      "        F->bty_avg: 6-9? \n",
      "          T->{'excellent': '100%'}\n",
      "          F->ethnicity: not minority? \n",
      "            T->{'excellent': '50%', 'good': '50%'}\n",
      "            F->{'excellent': '100%'}\n",
      "    F->cls_students: <15? \n",
      "      T->rank: tenured? \n",
      "        T->gender: male? \n",
      "          T->bty_avg: <3? \n",
      "            T->age: 50-65? \n",
      "              T->cls_level: lower? \n",
      "                T->{'excellent': '100%'}\n",
      "                F->{'good': '66%', 'excellent': '33%'}\n",
      "              F->{'excellent': '100%'}\n",
      "            F->cls_level: upper? \n",
      "              T->{'excellent': '50%', 'good': '50%'}\n",
      "              F->{'good': '100%'}\n",
      "          F->{'excellent': '100%'}\n",
      "        F->gender: female? \n",
      "          T->rank: tenure track? \n",
      "            T->{'excellent': '60%', 'good': '40%'}\n",
      "            F->{'good': '100%'}\n",
      "          F->rank: tenure track? \n",
      "            T->cls_level: lower? \n",
      "              T->{'good': '50%', 'excellent': '50%'}\n",
      "              F->{'excellent': '100%'}\n",
      "            F->{'excellent': '100%'}\n",
      "      F->age: 50-65? \n",
      "        T->cls_students: 100+? \n",
      "          T->cls_level: lower? \n",
      "            T->{'excellent': '60%', 'good': '40%'}\n",
      "            F->{'good': '50%', 'excellent': '50%'}\n",
      "          F->cls_students: 50-100? \n",
      "            T->{'good': '100%'}\n",
      "            F->rank: teaching? \n",
      "              T->{'excellent': '100%'}\n",
      "              F->cls_level: lower? \n",
      "                T->{'good': '100%'}\n",
      "                F->bty_avg: 3-6? \n",
      "                  T->{'excellent': '33%', 'good': '66%'}\n",
      "                  F->{'good': '100%'}\n",
      "        F->cls_students: 100+? \n",
      "          T->{'good': '100%'}\n",
      "          F->age: 65+? \n",
      "            T->{'average': '100%'}\n",
      "            F->cls_level: lower? \n",
      "              T->{'excellent': '100%'}\n",
      "              F->cls_students: 50-100? \n",
      "                T->rank: tenure track? \n",
      "                  T->{'good': '100%'}\n",
      "                  F->{'good': '60%', 'excellent': '40%'}\n",
      "                F->gender: female? \n",
      "                  T->bty_avg: 6-9? \n",
      "                    T->{'good': '75%', 'average': '25%'}\n",
      "                    F->rank: tenure track? \n",
      "                      T->ethnicity: minority? \n",
      "                        T->{'good': '100%'}\n",
      "                        F->{'excellent': '33%', 'good': '66%'}\n",
      "                      F->{'good': '33%', 'average': '33%', 'excellent': '33%'}\n",
      "                  F->rank: tenure track? \n",
      "                    T->{'excellent': '100%'}\n",
      "                    F->{'good': '100%'}\n",
      "  F->prof_eval: 4-4.5? \n",
      "    T->cls_students: <15? \n",
      "      T->rank: tenured? \n",
      "        T->age: 65+? \n",
      "          T->{'good': '100%'}\n",
      "          F->cls_level: upper? \n",
      "            T->bty_avg: 3-6? \n",
      "              T->{'good': '100%'}\n",
      "              F->age: 50-65? \n",
      "                T->{'good': '80%', 'average': '20%'}\n",
      "                F->{'average': '100%'}\n",
      "            F->bty_avg: 3-6? \n",
      "              T->age: 50-65? \n",
      "                T->{'average': '100%'}\n",
      "                F->gender: female? \n",
      "                  T->{'average': '50%', 'good': '50%'}\n",
      "                  F->{'good': '100%'}\n",
      "              F->{'good': '100%'}\n",
      "        F->gender: female? \n",
      "          T->{'good': '100%'}\n",
      "          F->rank: tenure track? \n",
      "            T->cls_level: lower? \n",
      "              T->{'good': '100%'}\n",
      "              F->{'excellent': '66%', 'good': '33%'}\n",
      "            F->{'good': '100%'}\n",
      "      F->age: 65+? \n",
      "        T->cls_students: 15-30? \n",
      "          T->{'excellent': '100%'}\n",
      "          F->{'average': '100%'}\n",
      "        F->age: 50-65? \n",
      "          T->bty_avg: 6-9? \n",
      "            T->ethnicity: minority? \n",
      "              T->{'average': '50%', 'good': '50%'}\n",
      "              F->{'excellent': '100%'}\n",
      "            F->ethnicity: minority? \n",
      "              T->{'average': '100%'}\n",
      "              F->cls_students: 15-30? \n",
      "                T->rank: tenure track? \n",
      "                  T->{'good': '50%', 'average': '50%'}\n",
      "                  F->bty_avg: 3-6? \n",
      "                    T->{'good': '100%'}\n",
      "                    F->cls_level: lower? \n",
      "                      T->{'good': '100%'}\n",
      "                      F->{'average': '100%'}\n",
      "                F->cls_level: lower? \n",
      "                  T->{'average': '100%'}\n",
      "                  F->cls_students: 30-50? \n",
      "                    T->rank: teaching? \n",
      "                      T->gender: female? \n",
      "                        T->bty_avg: 3-6? \n",
      "                          T->{'average': '50%', 'good': '50%'}\n",
      "                          F->{'average': '33%', 'good': '66%'}\n",
      "                        F->{'average': '100%'}\n",
      "                      F->bty_avg: 3-6? \n",
      "                        T->{'good': '80%', 'average': '20%'}\n",
      "                        F->{'average': '50%', 'good': '50%'}\n",
      "                    F->rank: teaching? \n",
      "                      T->{'good': '100%'}\n",
      "                      F->cls_students: 100+? \n",
      "                        T->{'good': '71%', 'average': '28%'}\n",
      "                        F->{'average': '37%', 'good': '62%'}\n",
      "          F->gender: male? \n",
      "            T->rank: tenure track? \n",
      "              T->cls_students: 15-30? \n",
      "                T->age: 20-35? \n",
      "                  T->bty_avg: 6-9? \n",
      "                    T->{'average': '100%'}\n",
      "                    F->ethnicity: minority? \n",
      "                      T->{'average': '100%'}\n",
      "                      F->{'good': '100%'}\n",
      "                  F->{'good': '100%'}\n",
      "                F->{'good': '100%'}\n",
      "              F->ethnicity: minority? \n",
      "                T->{'good': '100%'}\n",
      "                F->age: 35-50? \n",
      "                  T->cls_students: 15-30? \n",
      "                    T->cls_level: lower? \n",
      "                      T->{'average': '100%'}\n",
      "                      F->bty_avg: 6-9? \n",
      "                        T->{'good': '100%'}\n",
      "                        F->rank: teaching? \n",
      "                          T->{'average': '40%', 'good': '60%'}\n",
      "                          F->{'average': '33%', 'good': '66%'}\n",
      "                    F->language: english? \n",
      "                      T->rank: teaching? \n",
      "                        T->cls_students: 100+? \n",
      "                          T->{'average': '25%', 'good': '75%'}\n",
      "                          F->{'average': '100%'}\n",
      "                        F->cls_students: 100+? \n",
      "                          T->{'average': '100%'}\n",
      "                          F->bty_avg: 3-6? \n",
      "                            T->cls_students: 30-50? \n",
      "                              T->{'average': '66%', 'good': '33%'}\n",
      "                              F->cls_level: lower? \n",
      "                                T->{'average': '66%', 'good': '33%'}\n",
      "                                F->{'average': '100%'}\n",
      "                            F->{'average': '100%'}\n",
      "                      F->{'good': '100%'}\n",
      "                  F->{'good': '100%'}\n",
      "            F->cls_level: lower? \n",
      "              T->cls_students: 15-30? \n",
      "                T->rank: tenure track? \n",
      "                  T->{'average': '66%', 'good': '33%'}\n",
      "                  F->{'average': '100%'}\n",
      "                F->age: 20-35? \n",
      "                  T->{'average': '100%'}\n",
      "                  F->bty_avg: 3-6? \n",
      "                    T->rank: teaching? \n",
      "                      T->{'average': '100%'}\n",
      "                      F->cls_students: 50-100? \n",
      "                        T->{'average': '100%'}\n",
      "                        F->{'good': '100%'}\n",
      "                    F->{'good': '100%'}\n",
      "              F->rank: tenured? \n",
      "                T->bty_avg: 3-6? \n",
      "                  T->{'good': '50%', 'average': '50%'}\n",
      "                  F->{'average': '100%'}\n",
      "                F->bty_avg: 6-9? \n",
      "                  T->cls_students: 50-100? \n",
      "                    T->{'good': '100%'}\n",
      "                    F->{'average': '100%'}\n",
      "                  F->cls_students: 30-50? \n",
      "                    T->bty_avg: 3-6? \n",
      "                      T->{'average': '83%', 'good': '16%'}\n",
      "                      F->{'average': '100%'}\n",
      "                    F->{'average': '100%'}\n",
      "    F->prof_eval: 3-4? \n",
      "      T->ethnicity: minority? \n",
      "        T->cls_students: 30-50? \n",
      "          T->rank: tenure track? \n",
      "            T->{'fair': '100%'}\n",
      "            F->{'average': '100%'}\n",
      "          F->bty_avg: 6-9? \n",
      "            T->age: 35-50? \n",
      "              T->cls_students: 50-100? \n",
      "                T->{'average': '100%'}\n",
      "                F->{'good': '100%'}\n",
      "              F->{'average': '100%'}\n",
      "            F->{'average': '100%'}\n",
      "        F->cls_students: <15? \n",
      "          T->rank: teaching? \n",
      "            T->{'average': '100%'}\n",
      "            F->age: 50-65? \n",
      "              T->gender: female? \n",
      "                T->{'average': '100%'}\n",
      "                F->cls_level: lower? \n",
      "                  T->{'average': '100%'}\n",
      "                  F->{'average': '66%', 'fair': '33%'}\n",
      "              F->bty_avg: 6-9? \n",
      "                T->rank: tenure track? \n",
      "                  T->{'fair': '50%', 'average': '50%'}\n",
      "                  F->{'average': '100%'}\n",
      "                F->{'fair': '100%'}\n",
      "          F->rank: tenured? \n",
      "            T->bty_avg: 3-6? \n",
      "              T->{'average': '100%'}\n",
      "              F->cls_students: 15-30? \n",
      "                T->{'average': '100%'}\n",
      "                F->age: 50-65? \n",
      "                  T->cls_students: 30-50? \n",
      "                    T->{'average': '100%'}\n",
      "                    F->cls_level: lower? \n",
      "                      T->cls_students: 100+? \n",
      "                        T->{'average': '75%', 'fair': '25%'}\n",
      "                        F->{'fair': '50%', 'average': '50%'}\n",
      "                      F->gender: female? \n",
      "                        T->{'average': '75%', 'fair': '25%'}\n",
      "                        F->{'average': '100%'}\n",
      "                  F->{'average': '100%'}\n",
      "            F->bty_avg: <3? \n",
      "              T->{'average': '100%'}\n",
      "              F->language: non-english? \n",
      "                T->{'average': '100%'}\n",
      "                F->cls_students: 100+? \n",
      "                  T->{'average': '100%'}\n",
      "                  F->cls_students: 30-50? \n",
      "                    T->cls_level: lower? \n",
      "                      T->{'fair': '100%'}\n",
      "                      F->age: 50-65? \n",
      "                        T->gender: female? \n",
      "                          T->{'average': '100%'}\n",
      "                          F->{'fair': '100%'}\n",
      "                        F->{'average': '100%'}\n",
      "                    F->bty_avg: 6-9? \n",
      "                      T->{'average': '100%'}\n",
      "                      F->gender: female? \n",
      "                        T->age: 50-65? \n",
      "                          T->{'average': '83%', 'fair': '16%'}\n",
      "                          F->cls_students: 50-100? \n",
      "                            T->{'average': '100%'}\n",
      "                            F->rank: tenure track? \n",
      "                              T->{'fair': '50%', 'average': '50%'}\n",
      "                              F->{'average': '66%', 'fair': '33%'}\n",
      "                        F->{'average': '100%'}\n",
      "      F->ethnicity: minority? \n",
      "        T->rank: tenure track? \n",
      "          T->{'fair': '66%', 'average': '33%'}\n",
      "          F->{'fair': '100%'}\n",
      "        F->{'fair': '100%'}\n"
     ]
    }
   ],
   "source": [
    "print_tree(tree, '', columns_list)"
   ]
  },
  {
   "cell_type": "markdown",
   "metadata": {},
   "source": [
    "This is the best we could do for this dataset."
   ]
  },
  {
   "cell_type": "markdown",
   "metadata": {},
   "source": [
    "## 6. [TASK 1] Using learned tree for classification\n",
    "\n",
    "Recall at least 3 different courses you have taken, and record the values of the attributes, and the course score that you have given to the course. Run the predict function to see if the decision tree correctly predicts your score."
   ]
  },
  {
   "cell_type": "markdown",
   "metadata": {},
   "source": [
    "### Class Attributes with My Evaluations:\n",
    "\n",
    "| Class no. | rank | ethnicity | gender | language | age | cls_students | cls_level | bty_avg | prof_eval | My Eval |\n",
    "|---|---|---|---|---|---|---|---|---|---|---|\n",
    "| 1 | tenured | minority | male | english | 50-65 | 30-45| upper | 3-6 | 4.5+ | good |\n",
    "| 2 | tenure track | not minority | male | english | 35-50 | 15-30| upper | 3-6 | 4-4.5 | excellent |\n",
    "| 3 | tenured | not minority | male | english | 50-65 | 100+ | lower | 3-6 | 4-4.5 | average |"
   ]
  },
  {
   "cell_type": "markdown",
   "metadata": {},
   "source": [
    "### Predictions:"
   ]
  },
  {
   "cell_type": "code",
   "execution_count": 48,
   "metadata": {},
   "outputs": [
    {
     "name": "stdout",
     "output_type": "stream",
     "text": [
      "{'excellent': '33%', 'good': '66%'}\n",
      "{'good': '100%'}\n",
      "{'average': '100%'}\n"
     ]
    }
   ],
   "source": [
    "# Class 1:\n",
    "print(classify(['tenured','minority','male','english','50-65','30-45','upper','3-6','4.5+'],tree))\n",
    "\n",
    "# Class 2:\n",
    "print(classify(['tenure track','not minority','male','english','35-50','15-30','upper','3-6','4-4.5'],tree))\n",
    "\n",
    "# Class 3:\n",
    "print(classify(['tenured','not minority','male','english','50-65','100+','lower','3-6','4-4.5'],tree))"
   ]
  },
  {
   "cell_type": "markdown",
   "metadata": {},
   "source": [
    "### Predicted vs. Real Evaluations:\n",
    "\n",
    "| Class no. | Predicted | Real | Correct? |\n",
    "|---|---|---|---|\n",
    "| 1 | good | good | YES |\n",
    "| 2 | good | excellent | NO |\n",
    "| 3 | average | average | YES |\n",
    "\n",
    "Assuming that we select the most frequent case from the resulting leaf, th tree predicts my course evaluation correct in 2 out of 3 cases. "
   ]
  },
  {
   "cell_type": "markdown",
   "metadata": {},
   "source": [
    "## 7. [TASK 2] Important factors\n",
    "What are the most important attributes in separating good course evaluations from the bad ones? Support your answer by analyzing the tree levels and the leaf outcomes."
   ]
  },
  {
   "cell_type": "markdown",
   "metadata": {},
   "source": [
    "In looking at the tree results, professor evaluation seems to be the single most important attribute for predicting course scores. This is true because the first split occurs based on this attribute, suggesting that the entropy is reduced most from splitting based on this attribute. Also, in looking at the resulting leaves following a split on professor evaluation, the majority of results following a rating of 4.5 or higher fall under the 'excellent' or 'good' category.\n",
    "\n",
    "Another interesting and seemingly important attribute is ethnicity, and it seems that anytime the professor is listed as minority, there are seldom any class ratings that fall within the 'excellent' category, and 'average' and 'fair' seemed to be the most common predictions. \n",
    "\n",
    "Additionally, number of students in the class seemed to be an important predictor, and looking at the leaves on the tree, I would guess that there is a decent correlation between smaller class size and better course score."
   ]
  },
  {
   "cell_type": "markdown",
   "metadata": {},
   "source": [
    "## 8. [TASK 3] Rules\n",
    "Extract from the tree at least 3 rules that you find most reliable. Did any of these rules surprise you?\n",
    "\n",
    "### Rules:\n",
    "\n",
    "1. The simplest rule I found is the following:\n",
    "\n",
    "If professor evaluation <3 and minority, then course score is 'fair'. \n",
    "\n",
    "This rule in particular surpirsed me, because the fact that classifications are being made solely based on ethnicity for professors with low evaluation scores seems like not the best way of predicting course quality. \n",
    "\n",
    "2. This one is also simple, but follows the \"true\" branches\"\n",
    "\n",
    "If professor evaluation >4.5, class size 15-30, and beauty score <3, then coourse score is 'good'.\n",
    "\n",
    "Again, this was surprising to me that beauty score wopuld play an important role only at the third level of the tree.\n",
    "\n",
    "3. This rule is just absurd:\n",
    "\n",
    "If professor evaluation >4.5, class size <15, rank is not 'tenured', gender is female, and rank is not 'tenure track', then course score is 'good'.\n",
    "\n",
    "There is just too much going on here, and I suspect we don;'t have enough data to believe that this rule is dependable. "
   ]
  },
  {
   "cell_type": "markdown",
   "metadata": {},
   "source": [
    "## 9. [BONUS] Web visualization\n",
    "The visualizations of the tree can be made much more expressive with the _d3.js_ visualization library. Sample  _public_html_ folder containing all the required html, css, and javascript files, including the library itself, is provided. \n",
    "\n",
    "In order to create this visualization, all you need is a json file which represents the nodes of the final decision tree. Learn the required JSON format, and implement this conversion in a separate file __dtree_to_json.py__. Submit your file with the lab. \n",
    "\n",
    "Copy the resulting json file into the data directory in the _public_html_ folder, and update the name of the json file in the JavaScript code on line 39 in _index.html_. \n",
    "\n",
    "Note that Chrome would not allow you to run the visualization locally - so if you want to present it to the world you should use a web server. \n"
   ]
  },
  {
   "cell_type": "markdown",
   "metadata": {},
   "source": [
    "Copyright &copy; 2020 Marina Barsky. All rights reserved."
   ]
  }
 ],
 "metadata": {
  "kernelspec": {
   "display_name": "Python 3",
   "language": "python",
   "name": "python3"
  },
  "language_info": {
   "codemirror_mode": {
    "name": "ipython",
    "version": 3
   },
   "file_extension": ".py",
   "mimetype": "text/x-python",
   "name": "python",
   "nbconvert_exporter": "python",
   "pygments_lexer": "ipython3",
   "version": "3.8.5"
  }
 },
 "nbformat": 4,
 "nbformat_minor": 4
}
